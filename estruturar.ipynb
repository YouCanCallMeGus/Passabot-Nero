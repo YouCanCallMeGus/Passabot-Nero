{
 "cells": [
  {
   "cell_type": "code",
   "execution_count": null,
   "id": "54f743b5",
   "metadata": {},
   "outputs": [],
   "source": [
    "from pydantic import BaseModel, Field\n",
    "from enum import Enum\n",
    "import time\n",
    "from dotenv import load_dotenv\n",
    "\n",
    "load_dotenv(override=True)\n",
    "\n",
    "from langchain_core.prompts import ChatPromptTemplate\n",
    "from langchain_groq import ChatGroq\n",
    "\n",
    "model = ChatGroq(\n",
    "    model=\"meta-llama/llama-4-maverick-17b-128e-instruct\",\n",
    "    temperature=0,\n",
    ")\n",
    "\n",
    "\n",
    "system_prompt = \"\"\"\n",
    "Você é um assistente de IA muito prestativo que vai analisar um diálogo e dizer se há a confirmação que o atendente realmente corresponde ao hotel que o usuário deseja falar. Deve responder em: SIM, NAO ou INCONCLUSIVO.\n",
    "\"\"\"\n",
    "\n",
    "prompt = ChatPromptTemplate.from_messages(\n",
    "        [\n",
    "            (\"system\", system_prompt), \n",
    "            (\"human\", \"Trecho da conversa: \\n\\n {query}\")\n",
    "        ]\n",
    ")\n",
    "\n",
    "class ClassifierHotel(Enum):\n",
    "\n",
    "    SIM = \"SIM\"\n",
    "    NAO = \"NAO\"\n",
    "    INCONCLUSIVO = \"INCONCLUSIVO\"\n",
    "\n",
    "class GetSchema(BaseModel):\n",
    "    \"\"\"Schema de bolo\"\"\"\n",
    "    \n",
    "    result: ClassifierHotel = Field(description=\"Classificação do histórico do chat entre SIM, NAO e INCONCLUSIVO\")\n",
    "    \n",
    "strutured_model = model.with_structured_output(GetSchema)\n",
    "chain = prompt | strutured_model"
   ]
  },
  {
   "cell_type": "code",
   "execution_count": 8,
   "id": "50430c4b",
   "metadata": {},
   "outputs": [
    {
     "name": "stdout",
     "output_type": "stream",
     "text": [
      "NAO\n",
      "0.549 segundos\n"
     ]
    }
   ],
   "source": [
    "t1 = time.time()\n",
    "resultado = chain.invoke({\"query\": \"usuário: É do hotel tal?\\n atendente: Não é não\"})\n",
    "t2 = time.time()\n",
    "\n",
    "print(resultado.result.value)\n",
    "print(f\"{(t2-t1):.3f} segundos\")"
   ]
  }
 ],
 "metadata": {
  "kernelspec": {
   "display_name": "env",
   "language": "python",
   "name": "python3"
  },
  "language_info": {
   "codemirror_mode": {
    "name": "ipython",
    "version": 3
   },
   "file_extension": ".py",
   "mimetype": "text/x-python",
   "name": "python",
   "nbconvert_exporter": "python",
   "pygments_lexer": "ipython3",
   "version": "3.12.10"
  }
 },
 "nbformat": 4,
 "nbformat_minor": 5
}
