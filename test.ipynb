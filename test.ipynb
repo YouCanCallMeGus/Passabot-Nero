{
 "cells": [
  {
   "cell_type": "code",
   "execution_count": 8,
   "id": "c8095f19",
   "metadata": {},
   "outputs": [],
   "source": [
    "from langchain_openai import OpenAIEmbeddings\n",
    "\n",
    "embeddings = OpenAIEmbeddings(model=\"text-embedding-3-large\")\n",
    "# cuidado com dimensions\n",
    "\n",
    "import faiss\n",
    "from langchain_community.docstore.in_memory import InMemoryDocstore\n",
    "from langchain_community.vectorstores import FAISS\n",
    "\n",
    "index = faiss.IndexFlatL2(3072)\n",
    "\n",
    "vector_store = FAISS(\n",
    "    embedding_function=embeddings,\n",
    "    index=index,\n",
    "    docstore=InMemoryDocstore(),\n",
    "    index_to_docstore_id={},\n",
    ")"
   ]
  },
  {
   "cell_type": "code",
   "execution_count": 9,
   "id": "f42163f5",
   "metadata": {},
   "outputs": [],
   "source": [
    "from langchain_core.documents import Document\n",
    "import json\n",
    "\n",
    "list_documents = []\n",
    "\n",
    "with open('conversas.json', 'r', encoding='utf-8') as f:\n",
    "    conversas = json.load(f)\n",
    "\n",
    "for key in conversas:\n",
    "    for conversa in conversas[key]:\n",
    "        document = Document(page_content=conversa)\n",
    "        document.metadata[\"next_node\"] = key\n",
    "        list_documents.append(document)"
   ]
  },
  {
   "cell_type": "code",
   "execution_count": null,
   "id": "9716cb10",
   "metadata": {},
   "outputs": [],
   "source": [
    "vector_store.add_documents(documents=list_documents)\n",
    "\n",
    "vector_store.save_local(\"faiss_index\")"
   ]
  },
  {
   "cell_type": "code",
   "execution_count": 1,
   "id": "61abd60c",
   "metadata": {},
   "outputs": [],
   "source": [
    "from langchain_community.vectorstores import FAISS\n",
    "from langchain_openai import OpenAIEmbeddings\n",
    "\n",
    "embeddings = OpenAIEmbeddings(model=\"text-embedding-3-large\")\n",
    "\n",
    "vector_store = FAISS.load_local(\n",
    "    \"faiss_index\", embeddings, allow_dangerous_deserialization=True\n",
    ")"
   ]
  },
  {
   "cell_type": "code",
   "execution_count": 2,
   "id": "8fb5683a",
   "metadata": {},
   "outputs": [
    {
     "name": "stdout",
     "output_type": "stream",
     "text": [
      "page_content='usuário: Alô, é o Hotel Estalagem do Mar?\n",
      "atendente hotel: Não, aqui é uma residência.' metadata={'next_node': 'não'} 0.48437777\n",
      "page_content='usuário: Alô, é o Hotel Estalagem do Mar?\n",
      "atendente hotel: Não, aqui é uma residência.' metadata={'next_node': 'não'} 0.48446536\n",
      "page_content='usuário: Tô falando com o Hotel Hotel Beira-Mar, né?\n",
      "atendente hotel: Sim? Quem gostaria de falar?' metadata={'next_node': 'inconclusivo'} 0.5011228\n",
      "page_content='usuário: Tô falando com o Hotel Hotel Beira-Mar, né?\n",
      "atendente hotel: Sim? Quem gostaria de falar?' metadata={'next_node': 'inconclusivo'} 0.5011228\n",
      "page_content='usuário: Tô falando com o Hotel Hotel Beira-Mar, né?\n",
      "atendente hotel: Sim? Quem gostaria de falar?' metadata={'next_node': 'inconclusivo'} 0.5011789\n",
      "0 0.48442155 0.5011415\n",
      "inconclusivo\n",
      "3.021942138671875\n"
     ]
    }
   ],
   "source": [
    "import time\n",
    "\n",
    "t1 = time.time()\n",
    "\n",
    "results = vector_store.similarity_search_with_score(\n",
    "    \"usuário: É do hotel tal?\\n atendente: Não é não\", k=5\n",
    ")\n",
    "\n",
    "list_sim, list_nao, list_inconclusivo = [], [], []\n",
    "for res, score in results:\n",
    "    if res.metadata['next_node'] == 'sim':\n",
    "        list_sim.append(score)\n",
    "    elif res.metadata['next_node'] == 'não':\n",
    "        list_nao.append(score)\n",
    "    elif res.metadata['next_node'] == 'inconclusivo':\n",
    "        list_inconclusivo.append(score)\n",
    "    print(res, score)\n",
    "\n",
    "try:\n",
    "    total_sim = sum(list_sim)/len(list_sim)\n",
    "except ZeroDivisionError:\n",
    "    total_sim = 0\n",
    "try:\n",
    "    total_nao = sum(list_nao)/len(list_nao)\n",
    "except ZeroDivisionError:\n",
    "    total_nao = 0\n",
    "try:\n",
    "    total_inconclusivo = sum(list_inconclusivo)/len(list_inconclusivo)\n",
    "except ZeroDivisionError:\n",
    "    total_inconclusivo = 0\n",
    "print(total_sim, total_nao, total_inconclusivo)\n",
    "\n",
    "if total_sim > total_nao and total_sim > total_inconclusivo:\n",
    "    print('sim')\n",
    "elif total_nao > total_sim and total_nao > total_inconclusivo:\n",
    "    print('não')\n",
    "else:\n",
    "    print('inconclusivo')\n",
    "\n",
    "t2 = time.time()\n",
    "deltaT = t2 - t1\n",
    "\n",
    "print(deltaT)"
   ]
  }
 ],
 "metadata": {
  "kernelspec": {
   "display_name": "env",
   "language": "python",
   "name": "python3"
  },
  "language_info": {
   "codemirror_mode": {
    "name": "ipython",
    "version": 3
   },
   "file_extension": ".py",
   "mimetype": "text/x-python",
   "name": "python",
   "nbconvert_exporter": "python",
   "pygments_lexer": "ipython3",
   "version": "3.12.10"
  }
 },
 "nbformat": 4,
 "nbformat_minor": 5
}
