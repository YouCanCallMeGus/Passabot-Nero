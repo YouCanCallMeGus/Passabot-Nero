{
 "cells": [
  {
   "cell_type": "code",
   "execution_count": null,
   "id": "d2d44f1e",
   "metadata": {},
   "outputs": [],
   "source": [
    "import os\n",
    "import time\n",
    "import requests\n",
    "from dotenv import load_dotenv\n",
    "\n",
    "load_dotenv(override=True)\n",
    "\n",
    "GROQ_API_KEY = os.getenv(\"GROQ_API_KEY\")\n",
    "API_URL = \"https://api.groq.com/openai/v1/chat/completions\"\n",
    "\n",
    "system_prompt = \"\"\"\n",
    "Você é um assistente de IA muito prestativo que vai analisar um diálogo e\n",
    "dizer se há a confirmação que o atendente realmente corresponde ao hotel\n",
    "que o usuário deseja falar. Deve responder em: SIM, NAO ou INCONCLUSIVO.\n",
    "\"\"\"\n",
    "\n",
    "user_query = \"usuário: É do hotel tal?\\natendente: Não é não\"\n",
    "\n",
    "json = {\n",
    "    \"model\": \"meta-llama/llama-4-maverick-17b-128e-instruct\",\n",
    "    \"messages\": [\n",
    "        {\"role\": \"system\", \"content\": system_prompt},\n",
    "        {\"role\": \"user\", \"content\": f\"Trecho da conversa:\\n\\n{user_query}\"}\n",
    "    ],\n",
    "    \"temperature\": 0.0,\n",
    "    \"response_format\": {\n",
    "        \"type\": \"json_schema\",\n",
    "        \"json_schema\": {\n",
    "            \"name\": \"classify_hotel_confirmation\",\n",
    "            \"description\": \"Classifica se houve confirmação de que o atendente é do hotel desejado\",\n",
    "            \"strict\": True,\n",
    "            \"schema\": {\n",
    "                \"type\": \"object\",\n",
    "                \"properties\": {\n",
    "                    \"result\": {\n",
    "                        \"type\": \"string\",\n",
    "                        \"description\": \"Classificação do histórico do chat entre SIM, NAO e INCONCLUSIVO\",\n",
    "                        \"enum\": [\"SIM\", \"NAO\", \"INCONCLUSIVO\"]\n",
    "                    }\n",
    "                },\n",
    "                \"required\": [\"result\"],\n",
    "                \"additionalProperties\": False\n",
    "            }\n",
    "        }\n",
    "    }\n",
    "}\n",
    "\n",
    "\n",
    "headers = {\n",
    "    \"Authorization\": f\"Bearer {GROQ_API_KEY}\",\n",
    "    \"Content-Type\": \"application/json\"\n",
    "}\n"
   ]
  },
  {
   "cell_type": "code",
   "execution_count": 17,
   "id": "b6fe60ec",
   "metadata": {},
   "outputs": [
    {
     "name": "stdout",
     "output_type": "stream",
     "text": [
      "{\n",
      "  \"result\": \"NAO\"\n",
      "}\n",
      "0.483 segundos\n"
     ]
    }
   ],
   "source": [
    "t1 = time.time()\n",
    "resp = requests.post(API_URL, headers=headers, json=json)\n",
    "t2 = time.time()\n",
    "\n",
    "resp.raise_for_status()\n",
    "data = resp.json()\n",
    "result = data[\"choices\"][0][\"message\"][\"content\"].strip()\n",
    "\n",
    "print(result)\n",
    "print(f\"{(t2 - t1):.3f} segundos\")"
   ]
  }
 ],
 "metadata": {
  "kernelspec": {
   "display_name": "env",
   "language": "python",
   "name": "python3"
  },
  "language_info": {
   "codemirror_mode": {
    "name": "ipython",
    "version": 3
   },
   "file_extension": ".py",
   "mimetype": "text/x-python",
   "name": "python",
   "nbconvert_exporter": "python",
   "pygments_lexer": "ipython3",
   "version": "3.12.10"
  }
 },
 "nbformat": 4,
 "nbformat_minor": 5
}
